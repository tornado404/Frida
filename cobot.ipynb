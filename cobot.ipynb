{
 "cells": [
  {
   "cell_type": "code",
   "id": "98b9d7d20b0c61f7",
   "metadata": {
    "ExecuteTime": {
     "end_time": "2025-01-20T06:42:35.164035Z",
     "start_time": "2025-01-20T06:42:35.161450Z"
    }
   },
   "source": [
    "import os\n",
    "import time\n",
    "import sys\n",
    "from pymycobot import MyCobotSocket\n",
    "sys.path.append('..')"
   ],
   "outputs": [],
   "execution_count": 57
  },
  {
   "cell_type": "code",
   "id": "initial_id",
   "metadata": {
    "ExecuteTime": {
     "end_time": "2025-01-20T06:42:36.283524Z",
     "start_time": "2025-01-20T06:42:36.280016Z"
    }
   },
   "source": [
    "\n",
    "# 默认使用端口 9000\n",
    "mc = MyCobotSocket(\"192.168.31.7\", 9000)"
   ],
   "outputs": [],
   "execution_count": 58
  },
  {
   "cell_type": "code",
   "id": "511d766f734fbaee",
   "metadata": {
    "ExecuteTime": {
     "end_time": "2025-01-20T06:48:50.946860Z",
     "start_time": "2025-01-20T06:48:50.597321Z"
    }
   },
   "source": [
    "print(mc.get_coords())\n",
    "print(mc.get_angles())\n",
    "# [220.0, -99.2, 261.1, -175.15, -23.69, -12.55]\n",
    "# [-9.49, -42.53, -6.24, -17.31, 3.6, -87.18]\n",
    "# [256.2, -104.4, 172.7, -176.54, -8.6, -5.41]\n",
    "# [-9.4, -64.51, -6.41, -10.72, 4.04, -93.95]\n"
   ],
   "outputs": [
    {
     "name": "stdout",
     "output_type": "stream",
     "text": [
      "[229.2, 24.7, 75.3, -177.16, -7.0, 150.17]\n"
     ]
    },
    {
     "ename": "TypeError",
     "evalue": "'NoneType' object is not iterable",
     "output_type": "error",
     "traceback": [
      "\u001B[1;31m---------------------------------------------------------------------------\u001B[0m",
      "\u001B[1;31mTypeError\u001B[0m                                 Traceback (most recent call last)",
      "Cell \u001B[1;32mIn[85], line 2\u001B[0m\n\u001B[0;32m      1\u001B[0m \u001B[38;5;28mprint\u001B[39m(mc\u001B[38;5;241m.\u001B[39mget_coords())\n\u001B[1;32m----> 2\u001B[0m \u001B[38;5;28mprint\u001B[39m(mc\u001B[38;5;241m.\u001B[39mget_angles())\n",
      "File \u001B[1;32mD:\\ProgramData\\miniconda3\\envs\\frida\\Lib\\site-packages\\pymycobot\\generate.py:148\u001B[0m, in \u001B[0;36mCommandGenerator.get_angles\u001B[1;34m(self)\u001B[0m\n\u001B[0;32m    142\u001B[0m \u001B[38;5;28;01mdef\u001B[39;00m \u001B[38;5;21mget_angles\u001B[39m(\u001B[38;5;28mself\u001B[39m):\n\u001B[0;32m    143\u001B[0m \u001B[38;5;250m    \u001B[39m\u001B[38;5;124;03m\"\"\" Get the angle of all joints.\u001B[39;00m\n\u001B[0;32m    144\u001B[0m \n\u001B[0;32m    145\u001B[0m \u001B[38;5;124;03m    Return:\u001B[39;00m\n\u001B[0;32m    146\u001B[0m \u001B[38;5;124;03m        list: A float list of all angle.\u001B[39;00m\n\u001B[0;32m    147\u001B[0m \u001B[38;5;124;03m    \"\"\"\u001B[39;00m\n\u001B[1;32m--> 148\u001B[0m     \u001B[38;5;28;01mreturn\u001B[39;00m \u001B[38;5;28mself\u001B[39m\u001B[38;5;241m.\u001B[39m_mesg(ProtocolCode\u001B[38;5;241m.\u001B[39mGET_ANGLES, has_reply\u001B[38;5;241m=\u001B[39m\u001B[38;5;28;01mTrue\u001B[39;00m)\n",
      "File \u001B[1;32mD:\\ProgramData\\miniconda3\\envs\\frida\\Lib\\site-packages\\pymycobot\\mycobotsocket.py:136\u001B[0m, in \u001B[0;36mMyCobotSocket._mesg\u001B[1;34m(self, genre, *args, **kwargs)\u001B[0m\n\u001B[0;32m    134\u001B[0m     \u001B[38;5;28;01mreturn\u001B[39;00m \u001B[38;5;28mself\u001B[39m\u001B[38;5;241m.\u001B[39m_process_single(res)\n\u001B[0;32m    135\u001B[0m \u001B[38;5;28;01melif\u001B[39;00m genre \u001B[38;5;129;01min\u001B[39;00m [ProtocolCode\u001B[38;5;241m.\u001B[39mGET_ANGLES]:\n\u001B[1;32m--> 136\u001B[0m     \u001B[38;5;28;01mreturn\u001B[39;00m [\u001B[38;5;28mself\u001B[39m\u001B[38;5;241m.\u001B[39m_int2angle(angle) \u001B[38;5;28;01mfor\u001B[39;00m angle \u001B[38;5;129;01min\u001B[39;00m res]\n\u001B[0;32m    137\u001B[0m \u001B[38;5;28;01melif\u001B[39;00m genre \u001B[38;5;129;01min\u001B[39;00m [ProtocolCode\u001B[38;5;241m.\u001B[39mGET_COORDS, ProtocolCode\u001B[38;5;241m.\u001B[39mGET_TOOL_REFERENCE, ProtocolCode\u001B[38;5;241m.\u001B[39mGET_WORLD_REFERENCE]:\n\u001B[0;32m    138\u001B[0m     \u001B[38;5;28;01mif\u001B[39;00m res:\n",
      "\u001B[1;31mTypeError\u001B[0m: 'NoneType' object is not iterable"
     ]
    }
   ],
   "execution_count": 85
  },
  {
   "metadata": {
    "ExecuteTime": {
     "end_time": "2025-01-20T06:43:19.097127Z",
     "start_time": "2025-01-20T06:43:06.300070Z"
    }
   },
   "cell_type": "code",
   "source": [
    "mc.send_coords([281.9, -21.1, 99, 180, -5, 145], 20)\n",
    "time.sleep(5)\n",
    "mc.send_coords([281.9, -21.1, 99, 180, 5, -45], 20)\n",
    "time.sleep(5)\n",
    "mc.send_coords([281.9, -21.1, 99, 180, -5, 145], 20)"
   ],
   "id": "b2bbb9f3cf752bcd",
   "outputs": [
    {
     "data": {
      "text/plain": [
       "-1"
      ]
     },
     "execution_count": 63,
     "metadata": {},
     "output_type": "execute_result"
    }
   ],
   "execution_count": 63
  },
  {
   "metadata": {
    "ExecuteTime": {
     "end_time": "2025-01-20T02:24:46.345073Z",
     "start_time": "2025-01-20T02:24:45.418040Z"
    }
   },
   "cell_type": "code",
   "source": "mc.send_coords([281.9, -21.1, 99, 180, 0, 145], 20)",
   "id": "e391ad0696beddff",
   "outputs": [
    {
     "data": {
      "text/plain": [
       "-1"
      ]
     },
     "execution_count": 56,
     "metadata": {},
     "output_type": "execute_result"
    }
   ],
   "execution_count": 56
  },
  {
   "cell_type": "code",
   "id": "98773bc31ad6b3d",
   "metadata": {
    "ExecuteTime": {
     "end_time": "2025-01-20T06:48:15.170254Z",
     "start_time": "2025-01-20T06:48:15.167749Z"
    }
   },
   "source": [
    "from pymycobot.common import ProtocolCode\n",
    "\n",
    "# mc._mesg(ProtocolCode.SET_FREE_MODE, 1)\n",
    "# mc._mesg(ProtocolCode.SET_FREE_MODE, 1)\n",
    "mc._mesg(ProtocolCode.SET_FREE_MODE, 1)"
   ],
   "outputs": [],
   "execution_count": 78
  },
  {
   "metadata": {
    "ExecuteTime": {
     "end_time": "2025-01-03T08:47:39.902349Z",
     "start_time": "2025-01-03T08:47:39.899534Z"
    }
   },
   "cell_type": "code",
   "source": [
    "import os\n",
    "print(os.getcwd())\n",
    "# add the path to the sys\n",
    "sys.path.append(os.getcwd())\n",
    "sys.path.append(os.getcwd() + '/src')\n"
   ],
   "id": "b8ed084eba5f49cb",
   "outputs": [
    {
     "name": "stdout",
     "output_type": "stream",
     "text": [
      "D:\\code\\frida\n"
     ]
    }
   ],
   "execution_count": 4
  },
  {
   "metadata": {
    "ExecuteTime": {
     "end_time": "2025-01-03T08:47:43.748262Z",
     "start_time": "2025-01-03T08:47:40.967902Z"
    }
   },
   "cell_type": "code",
   "source": [
    "from src.options import Options\n",
    "import datetime\n",
    "from src.my_tensorboard import TensorBoard\n",
    "from src.painter import Painter"
   ],
   "id": "b851f9ef5c303720",
   "outputs": [],
   "execution_count": 5
  },
  {
   "metadata": {
    "ExecuteTime": {
     "end_time": "2025-01-03T08:47:46.078105Z",
     "start_time": "2025-01-03T08:47:46.073598Z"
    }
   },
   "cell_type": "code",
   "source": [
    "sys.argv = [\n",
    "    'options.py',\n",
    "    '--robot', 'mycobot280pi', \n",
    "    '--materials_json', './materials_ink.json',\n",
    "    '--use_cache', \n",
    "    '--cache_dir', './src/caches/cobot280', \n",
    "    '--render_height', '256', \n",
    "    '--dont_retrain_stroke_model', \n",
    "    '--num_strokes', '200', \n",
    "    '--n_colors', '2', \n",
    "    '--objective', 'clip_conv_loss', \n",
    "    '--objective_data', './src/inputs/4.jpg', \n",
    "    '--objective_weight', '1.0', \n",
    "    '--init_optim_iter', '500', \n",
    "    '--lr_multiplier', '2.0'\n",
    "]\n",
    "opt = Options()\n",
    "opt.gather_options()"
   ],
   "id": "5f5be9c993425e83",
   "outputs": [
    {
     "name": "stdout",
     "output_type": "stream",
     "text": [
      "Retrieving settings from stroke library for consistency:\n",
      "{'MAX_BEND': 0.01, 'MIN_STROKE_Z': 0.1, 'MIN_STROKE_LENGTH': 0.002, 'MAX_STROKE_LENGTH': 0.03, 'MAX_ALPHA': 0, 'CANVAS_WIDTH_M': 0.2794, 'CANVAS_HEIGHT_M': 0.2159}\n"
     ]
    }
   ],
   "execution_count": 6
  },
  {
   "metadata": {
    "ExecuteTime": {
     "end_time": "2025-01-03T08:47:56.533488Z",
     "start_time": "2025-01-03T08:47:49.568522Z"
    }
   },
   "cell_type": "code",
   "source": [
    "\n",
    "from src.painting_optimization import load_objectives_data\n",
    "\n",
    "date_and_time = datetime.datetime.now()\n",
    "run_name = '' + date_and_time.strftime(\"%m_%d__%H_%M_%S\")\n",
    "opt.writer = TensorBoard('{}/{}'.format(opt.tensorboard_dir, run_name))\n",
    "opt.writer.add_text('args', str(sys.argv), 0)\n",
    "\n",
    "\n",
    "\n",
    "\n"
   ],
   "id": "dc1c1122a5f95947",
   "outputs": [
    {
     "name": "stderr",
     "output_type": "stream",
     "text": [
      "D:\\ProgramData\\miniconda3\\envs\\frida\\Lib\\site-packages\\tqdm\\auto.py:21: TqdmWarning: IProgress not found. Please update jupyter and ipywidgets. See https://ipywidgets.readthedocs.io/en/stable/user_install.html\n",
      "  from .autonotebook import tqdm as notebook_tqdm\n",
      "D:\\code\\frida/src\\losses\\emotion_loss\\emotion_loss.py:53: FutureWarning: You are using `torch.load` with `weights_only=False` (the current default value), which uses the default pickle module implicitly. It is possible to construct malicious pickle data which will execute arbitrary code during unpickling (See https://github.com/pytorch/pytorch/blob/main/SECURITY.md#untrusted-models for more details). In a future release, the default value for `weights_only` will be flipped to `True`. This limits the functions that could be executed during unpickling. Arbitrary objects will no longer be allowed to be loaded via this mode unless they are explicitly allowlisted by the user via `torch.serialization.add_safe_globals`. We recommend you start setting `weights_only=True` for any use case where you don't have full control of the loaded file. Please open an issue on GitHub for any issues related to this experimental feature.\n",
      "  emotion.load_state_dict(torch.load(MODEL_PATH, map_location=torch.device('cpu')))\n"
     ]
    }
   ],
   "execution_count": 7
  },
  {
   "metadata": {
    "ExecuteTime": {
     "end_time": "2025-01-03T08:48:28.193650Z",
     "start_time": "2025-01-03T08:47:56.533488Z"
    }
   },
   "cell_type": "code",
   "source": [
    "painter = Painter(opt)\n",
    "painter.to_neutral()"
   ],
   "id": "bb2578fd94381290",
   "outputs": [
    {
     "name": "stdout",
     "output_type": "stream",
     "text": [
      "启动 UltraArm 机器人...\n"
     ]
    },
    {
     "name": "stderr",
     "output_type": "stream",
     "text": [
      "\u001B[32m2025-01-03 16:48:04.070\u001B[0m | \u001B[1mINFO    \u001B[0m | \u001B[36msrc.painter\u001B[0m:\u001B[36m__init__\u001B[0m:\u001B[36m81\u001B[0m - \u001B[1m使用相机WebCam\u001B[0m\n",
      "\u001B[32m2025-01-03 16:48:04.852\u001B[0m | \u001B[1mINFO    \u001B[0m | \u001B[36mrobot\u001B[0m:\u001B[36mgo_to_cartesian_pose\u001B[0m:\u001B[36m954\u001B[0m - \u001B[1mformated_item is [0.0, 170.0, 81.0, 180.0, -0.0, 15.0]\u001B[0m\n",
      "\u001B[32m2025-01-03 16:48:06.717\u001B[0m | \u001B[1mINFO    \u001B[0m | \u001B[36mrobot\u001B[0m:\u001B[36mgo_to_cartesian_pose\u001B[0m:\u001B[36m954\u001B[0m - \u001B[1mformated_item is [-172.0, 193.0, 185.0, 180.0, -0.0, 15.0]\u001B[0m\n",
      "\u001B[32m2025-01-03 16:48:08.587\u001B[0m | \u001B[1mINFO    \u001B[0m | \u001B[36mrobot\u001B[0m:\u001B[36mgo_to_cartesian_pose\u001B[0m:\u001B[36m954\u001B[0m - \u001B[1mformated_item is [-172.0, 193.0, 185.0, 180.0, -0.0, 15.0]\u001B[0m\n",
      "\u001B[32m2025-01-03 16:48:10.458\u001B[0m | \u001B[1mINFO    \u001B[0m | \u001B[36mrobot\u001B[0m:\u001B[36mgo_to_cartesian_pose\u001B[0m:\u001B[36m954\u001B[0m - \u001B[1mformated_item is [-172.0, 193.0, 85.0, 180.0, -0.0, 15.0]\u001B[0m\n",
      "\u001B[32m2025-01-03 16:48:12.319\u001B[0m | \u001B[1mINFO    \u001B[0m | \u001B[36mrobot\u001B[0m:\u001B[36mgo_to_cartesian_pose\u001B[0m:\u001B[36m954\u001B[0m - \u001B[1mformated_item is [-167.31022715942439, 213.0, 85.0, 180.0, -0.0, 15.0]\u001B[0m\n",
      "\u001B[32m2025-01-03 16:48:14.183\u001B[0m | \u001B[1mINFO    \u001B[0m | \u001B[36mrobot\u001B[0m:\u001B[36mgo_to_cartesian_pose\u001B[0m:\u001B[36m954\u001B[0m - \u001B[1mformated_item is [-152.0, 204.62501880373426, 85.0, 180.0, -0.0, 15.0]\u001B[0m\n",
      "\u001B[32m2025-01-03 16:48:16.056\u001B[0m | \u001B[1mINFO    \u001B[0m | \u001B[36mrobot\u001B[0m:\u001B[36mgo_to_cartesian_pose\u001B[0m:\u001B[36m954\u001B[0m - \u001B[1mformated_item is [-164.73971552159381, 185.27082691472611, 85.0, 180.0, -0.0, 15.0]\u001B[0m\n",
      "\u001B[32m2025-01-03 16:48:17.929\u001B[0m | \u001B[1mINFO    \u001B[0m | \u001B[36mrobot\u001B[0m:\u001B[36mgo_to_cartesian_pose\u001B[0m:\u001B[36m954\u001B[0m - \u001B[1mformated_item is [-161.9390206004677, 202.29869038774729, 85.0, 180.0, -0.0, 15.0]\u001B[0m\n",
      "\u001B[32m2025-01-03 16:48:19.802\u001B[0m | \u001B[1mINFO    \u001B[0m | \u001B[36mrobot\u001B[0m:\u001B[36mgo_to_cartesian_pose\u001B[0m:\u001B[36m954\u001B[0m - \u001B[1mformated_item is [-152.0, 186.86900884046295, 85.0, 180.0, -0.0, 15.0]\u001B[0m\n",
      "\u001B[32m2025-01-03 16:48:21.669\u001B[0m | \u001B[1mINFO    \u001B[0m | \u001B[36mrobot\u001B[0m:\u001B[36mgo_to_cartesian_pose\u001B[0m:\u001B[36m954\u001B[0m - \u001B[1mformated_item is [-172.0, 193.0, 185.0, 180.0, -0.0, 15.0]\u001B[0m\n"
     ]
    },
    {
     "name": "stdout",
     "output_type": "stream",
     "text": [
      "Getting color-corrected image\n",
      "cached img shape: (480, 640, 3)\n",
      "计算的宽度: 576, 图像宽度: 640\n"
     ]
    },
    {
     "name": "stderr",
     "output_type": "stream",
     "text": [
      "\u001B[32m2025-01-03 16:48:26.330\u001B[0m | \u001B[1mINFO    \u001B[0m | \u001B[36mrobot\u001B[0m:\u001B[36mgo_to_cartesian_pose\u001B[0m:\u001B[36m954\u001B[0m - \u001B[1mformated_item is [0.0, 170.0, 81.0, 180.0, -0.0, 15.0]\u001B[0m\n"
     ]
    },
    {
     "name": "stdout",
     "output_type": "stream",
     "text": [
      "{'MAX_BEND': 0.01, 'MIN_STROKE_Z': 0.1, 'MIN_STROKE_LENGTH': 0.002, 'MAX_STROKE_LENGTH': 0.03, 'MAX_ALPHA': 0, 'CANVAS_WIDTH_M': 0.2794, 'CANVAS_HEIGHT_M': 0.2159}\n"
     ]
    }
   ],
   "execution_count": 8
  },
  {
   "metadata": {
    "ExecuteTime": {
     "end_time": "2025-01-03T08:37:07.423002Z",
     "start_time": "2025-01-03T08:37:06.091891Z"
    }
   },
   "cell_type": "code",
   "source": [
    "import torch\n",
    "import cv2\n",
    "\n",
    "w_render = int(opt.render_height * (opt.CANVAS_WIDTH_M/opt.CANVAS_HEIGHT_M))\n",
    "h_render = int(opt.render_height)\n",
    "opt.w_render, opt.h_render = w_render, h_render\n",
    "\n",
    "consecutive_paints = 0\n",
    "consecutive_strokes_no_clean = 0\n",
    "curr_color = -1\n",
    "\n",
    "color_palette = None\n",
    "device = torch.device(\"cuda\" if torch.cuda.is_available() else \"cpu\")\n",
    "current_canvas = painter.camera.get_canvas_tensor(h=h_render,w=w_render).to(device) / 255.\n",
    "# \n",
    "# load_objectives_data(opt)\n",
    "#  "
   ],
   "id": "a35caae832c686c1",
   "outputs": [],
   "execution_count": 15
  },
  {
   "metadata": {
    "ExecuteTime": {
     "end_time": "2025-01-03T08:37:16.294525Z",
     "start_time": "2025-01-03T08:37:10.681753Z"
    }
   },
   "cell_type": "code",
   "source": "painter.dip_brush_in_water()",
   "id": "b2591ebc41d58fb0",
   "outputs": [
    {
     "name": "stderr",
     "output_type": "stream",
     "text": [
      "\u001B[32m2025-01-03 16:37:10.683\u001B[0m | \u001B[1mINFO    \u001B[0m | \u001B[36mrobot\u001B[0m:\u001B[36mgo_to_cartesian_pose\u001B[0m:\u001B[36m954\u001B[0m - \u001B[1mformated_item is [-172.0, 193.0, 185.0, 180.0, -0.0, 15.0]\u001B[0m\n",
      "\u001B[32m2025-01-03 16:37:11.624\u001B[0m | \u001B[1mINFO    \u001B[0m | \u001B[36mrobot\u001B[0m:\u001B[36mgo_to_cartesian_pose\u001B[0m:\u001B[36m954\u001B[0m - \u001B[1mformated_item is [-172.0, 193.0, 185.0, 180.0, -0.0, 15.0]\u001B[0m\n",
      "\u001B[32m2025-01-03 16:37:12.557\u001B[0m | \u001B[1mINFO    \u001B[0m | \u001B[36mrobot\u001B[0m:\u001B[36mgo_to_cartesian_pose\u001B[0m:\u001B[36m954\u001B[0m - \u001B[1mformated_item is [-172.0, 193.0, 85.0, 180.0, -0.0, 15.0]\u001B[0m\n",
      "\u001B[32m2025-01-03 16:37:13.491\u001B[0m | \u001B[1mINFO    \u001B[0m | \u001B[36mrobot\u001B[0m:\u001B[36mgo_to_cartesian_pose\u001B[0m:\u001B[36m954\u001B[0m - \u001B[1mformated_item is [-164.82239100644392, 198.99881946475585, 85.0, 180.0, -0.0, 15.0]\u001B[0m\n",
      "\u001B[32m2025-01-03 16:37:14.423\u001B[0m | \u001B[33m\u001B[1mWARNING \u001B[0m | \u001B[36mrobot\u001B[0m:\u001B[36mgo_to_cartesian_pose\u001B[0m:\u001B[36m952\u001B[0m - \u001B[33m\u001B[1m机械臂超出安全范围，机械臂坐标为：[-0.18775737  0.17303377  0.085     ]\u001B[0m\n",
      "\u001B[32m2025-01-03 16:37:14.424\u001B[0m | \u001B[1mINFO    \u001B[0m | \u001B[36mrobot\u001B[0m:\u001B[36mgo_to_cartesian_pose\u001B[0m:\u001B[36m954\u001B[0m - \u001B[1mformated_item is [-154.6827944879094, 193.8815320331436, 85.0, 180.0, -0.0, 15.0]\u001B[0m\n",
      "\u001B[32m2025-01-03 16:37:15.360\u001B[0m | \u001B[33m\u001B[1mWARNING \u001B[0m | \u001B[36mrobot\u001B[0m:\u001B[36mgo_to_cartesian_pose\u001B[0m:\u001B[36m952\u001B[0m - \u001B[33m\u001B[1m机械臂超出安全范围，机械臂坐标为：[-0.17379649  0.19004415  0.085     ]\u001B[0m\n",
      "\u001B[32m2025-01-03 16:37:15.361\u001B[0m | \u001B[33m\u001B[1mWARNING \u001B[0m | \u001B[36mrobot\u001B[0m:\u001B[36mgo_to_cartesian_pose\u001B[0m:\u001B[36m952\u001B[0m - \u001B[33m\u001B[1m机械臂超出安全范围，机械臂坐标为：[-0.18302613  0.19592824  0.085     ]\u001B[0m\n",
      "\u001B[32m2025-01-03 16:37:15.361\u001B[0m | \u001B[1mINFO    \u001B[0m | \u001B[36mrobot\u001B[0m:\u001B[36mgo_to_cartesian_pose\u001B[0m:\u001B[36m954\u001B[0m - \u001B[1mformated_item is [-172.0, 193.0, 185.0, 180.0, -0.0, 15.0]\u001B[0m\n"
     ]
    }
   ],
   "execution_count": 16
  },
  {
   "metadata": {
    "ExecuteTime": {
     "end_time": "2025-01-03T08:33:00.638994Z",
     "start_time": "2025-01-03T08:32:53.160963Z"
    }
   },
   "cell_type": "code",
   "source": "painter.rub_brush_on_rag()",
   "id": "feef9d2a27f882ef",
   "outputs": [
    {
     "name": "stderr",
     "output_type": "stream",
     "text": [
      "\u001B[32m2025-01-03 16:32:53.161\u001B[0m | \u001B[1mINFO    \u001B[0m | \u001B[36mrobot\u001B[0m:\u001B[36mgo_to_cartesian_pose\u001B[0m:\u001B[36m954\u001B[0m - \u001B[1mformated_item is [172.0, 193.0, 187.0, 180.0, -0.0, 15.0]\u001B[0m\n",
      "\u001B[32m2025-01-03 16:32:54.084\u001B[0m | \u001B[1mINFO    \u001B[0m | \u001B[36mrobot\u001B[0m:\u001B[36mgo_to_cartesian_pose\u001B[0m:\u001B[36m954\u001B[0m - \u001B[1mformated_item is [172.0, 193.0, 187.0, 180.0, -0.0, 15.0]\u001B[0m\n",
      "\u001B[32m2025-01-03 16:32:55.022\u001B[0m | \u001B[1mINFO    \u001B[0m | \u001B[36mrobot\u001B[0m:\u001B[36mgo_to_cartesian_pose\u001B[0m:\u001B[36m954\u001B[0m - \u001B[1mformated_item is [172.0, 193.0, 87.0, 180.0, -0.0, 15.0]\u001B[0m\n",
      "\u001B[32m2025-01-03 16:32:55.958\u001B[0m | \u001B[1mINFO    \u001B[0m | \u001B[36mrobot\u001B[0m:\u001B[36mgo_to_cartesian_pose\u001B[0m:\u001B[36m954\u001B[0m - \u001B[1mformated_item is [165.11158365201734, 198.70270062581955, 87.0, 180.0, -0.0, 15.0]\u001B[0m\n",
      "\u001B[32m2025-01-03 16:32:56.896\u001B[0m | \u001B[1mINFO    \u001B[0m | \u001B[36mrobot\u001B[0m:\u001B[36mgo_to_cartesian_pose\u001B[0m:\u001B[36m954\u001B[0m - \u001B[1mformated_item is [169.28846009511668, 190.74993236077057, 87.0, 180.0, -0.0, 15.0]\u001B[0m\n",
      "\u001B[32m2025-01-03 16:32:57.830\u001B[0m | \u001B[33m\u001B[1mWARNING \u001B[0m | \u001B[36mrobot\u001B[0m:\u001B[36mgo_to_cartesian_pose\u001B[0m:\u001B[36m952\u001B[0m - \u001B[33m\u001B[1m机械臂超出安全范围，机械臂坐标为：[ 0.17462289  0.20239486  0.087     ]\u001B[0m\n",
      "\u001B[32m2025-01-03 16:32:57.831\u001B[0m | \u001B[1mINFO    \u001B[0m | \u001B[36mrobot\u001B[0m:\u001B[36mgo_to_cartesian_pose\u001B[0m:\u001B[36m954\u001B[0m - \u001B[1mformated_item is [161.99999999999997, 196.4333987201789, 87.0, 180.0, -0.0, 15.0]\u001B[0m\n",
      "\u001B[32m2025-01-03 16:32:58.766\u001B[0m | \u001B[1mINFO    \u001B[0m | \u001B[36mrobot\u001B[0m:\u001B[36mgo_to_cartesian_pose\u001B[0m:\u001B[36m954\u001B[0m - \u001B[1mformated_item is [170.66087126360773, 197.68774407100113, 87.0, 180.0, -0.0, 15.0]\u001B[0m\n",
      "\u001B[32m2025-01-03 16:32:59.702\u001B[0m | \u001B[1mINFO    \u001B[0m | \u001B[36mrobot\u001B[0m:\u001B[36mgo_to_cartesian_pose\u001B[0m:\u001B[36m954\u001B[0m - \u001B[1mformated_item is [172.0, 193.0, 187.0, 180.0, -0.0, 15.0]\u001B[0m\n"
     ]
    }
   ],
   "execution_count": 12
  },
  {
   "metadata": {},
   "cell_type": "code",
   "outputs": [],
   "execution_count": null,
   "source": "",
   "id": "a21569ebbafe3474"
  }
 ],
 "metadata": {
  "kernelspec": {
   "display_name": "Python (frida)",
   "language": "python",
   "name": "frida"
  },
  "language_info": {
   "codemirror_mode": {
    "name": "ipython",
    "version": 3
   },
   "file_extension": ".py",
   "mimetype": "text/x-python",
   "name": "python",
   "nbconvert_exporter": "python",
   "pygments_lexer": "ipython3",
   "version": "3.12.7"
  }
 },
 "nbformat": 4,
 "nbformat_minor": 5
}
